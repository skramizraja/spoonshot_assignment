{
 "cells": [
  {
   "cell_type": "code",
   "execution_count": null,
   "metadata": {},
   "outputs": [],
   "source": [
    "import requests\n",
    "import json\n",
    "import os\n",
    "from .models import Books\n",
    "import random\n",
    "from django.utils import timezone\n",
    "\n",
    "def start1():\n",
    "\tBooks.objects.all().delete()\n",
    "\n",
    "\tfor i in ('love', 'dog', 'mother', 'friend', 'fake', 'value','zepplin'):\n",
    "\t\tgoogleapikey= os.environ.get('API_KEY')\n",
    "\t\tparms = {\"q\":i, 'key':googleapikey}\n",
    "\t\tr = requests.get(url=\"https://www.googleapis.com/books/v1/volumes\", params=parms)\n",
    "\t\tmy_json = r.json()\n",
    "\t\tlist1=[]\n",
    "\t\tlist2=[]\n",
    "\t\tlist3=[]\n",
    "\t\tfor i in my_json[\"items\"]:\n",
    "\t\t\tlist1.append(i['volumeInfo']['title'])\n",
    "\t\t\tlist2.append(i['id'])\n",
    "\t\t\tlist3.append(i[\"volumeInfo\"][\"previewLink\"])\n",
    "\n",
    "\t\tfor i, j, k in zip(list1, list2, list3):\n",
    "\t\t\tq= Books(book_name=i, ID=j, created_at= timezone.now(), preview_link=k, count= random.randint(0,20))\n",
    "\t\t\tq.save()"
   ]
  }
 ],
 "metadata": {
  "kernelspec": {
   "display_name": "Python 3",
   "language": "python",
   "name": "python3"
  },
  "language_info": {
   "codemirror_mode": {
    "name": "ipython",
    "version": 3
   },
   "file_extension": ".py",
   "mimetype": "text/x-python",
   "name": "python",
   "nbconvert_exporter": "python",
   "pygments_lexer": "ipython3",
   "version": "3.7.3"
  }
 },
 "nbformat": 4,
 "nbformat_minor": 2
}
