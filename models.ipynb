{
 "cells": [
  {
   "cell_type": "code",
   "execution_count": null,
   "metadata": {},
   "outputs": [],
   "source": [
    "from django.db import models\n",
    "from django.utils import timezone\n",
    "\n",
    "# Create your models here.\n",
    "class Books(models.Model):\n",
    "\tbook_name=models.CharField(max_length=200)\n",
    "\tID= models.CharField(max_length=200, primary_key= True, default= \"\" )\n",
    "\tcreated_at =  models.DateTimeField(auto_now_add= True)\n",
    "\tpreview_link=models.URLField(max_length=200)\n",
    "\tcount= models.IntegerField(default=0)\n",
    "\tdef __str__(self):\n",
    "\t\treturn self.book_name"
   ]
  }
 ],
 "metadata": {
  "kernelspec": {
   "display_name": "Python 3",
   "language": "python",
   "name": "python3"
  },
  "language_info": {
   "codemirror_mode": {
    "name": "ipython",
    "version": 3
   },
   "file_extension": ".py",
   "mimetype": "text/x-python",
   "name": "python",
   "nbconvert_exporter": "python",
   "pygments_lexer": "ipython3",
   "version": "3.7.3"
  }
 },
 "nbformat": 4,
 "nbformat_minor": 2
}
