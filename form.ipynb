{
 "cells": [
  {
   "cell_type": "code",
   "execution_count": null,
   "metadata": {},
   "outputs": [],
   "source": [
    "from django import forms\n",
    "from .models import Books\n",
    "\n",
    "\n",
    "class SearchForm(forms.Form):\n",
    "\tsearch= forms.CharField(widget=forms.TextInput(\n",
    "\t\tattrs={\n",
    "\t\t\t'class': 'form-control',\n",
    "\t\t\t'placeholder': 'search for a book'\n",
    "\t\t}\n",
    "\t)) \n",
    "\n",
    "class UpdateForm(forms.Form):\n",
    "\ttitle=forms.CharField(widget=forms.TextInput(\n",
    "\t\tattrs={\n",
    "\t\t\t'class': 'form-control',\n",
    "\t\t\t'placeholder': 'Enter Title'\n",
    "\t\t}\n",
    "\t)) \n",
    "\tpreviewLink=forms.URLField(widget=forms.TextInput(\n",
    "\t\tattrs={\n",
    "\t\t\t'class': 'form-control',\n",
    "\t\t\t'placeholder': 'Google books Link'\n",
    "\t\t}\n",
    "\t)) \n",
    "\tID= forms.CharField(widget=forms.TextInput(\n",
    "\t\tattrs={\n",
    "\t\t\t'class': 'form-control',\n",
    "\t\t\t'placeholder': 'must be google book id'\n",
    "\t\t}\n",
    "\t)) \n",
    "\tcopies=forms.IntegerField(widget=forms.TextInput(\n",
    "\t\tattrs={\n",
    "\t\t\t'class': 'form-control',\n",
    "\t\t\t'placeholder': 'how many copies you want to add'\n",
    "\t\t}\n",
    "\t)) \n",
    "\n",
    "class AddForm(forms.Form):\n",
    "\turl= forms.URLField(widget=forms.TextInput(\n",
    "\t\tattrs={\n",
    "\t\t\t'class': 'form-control',\n",
    "\t\t\t'placeholder': 'url of the google book'\n",
    "\t\t}\n",
    "\t)) "
   ]
  }
 ],
 "metadata": {
  "kernelspec": {
   "display_name": "Python 3",
   "language": "python",
   "name": "python3"
  },
  "language_info": {
   "codemirror_mode": {
    "name": "ipython",
    "version": 3
   },
   "file_extension": ".py",
   "mimetype": "text/x-python",
   "name": "python",
   "nbconvert_exporter": "python",
   "pygments_lexer": "ipython3",
   "version": "3.7.3"
  }
 },
 "nbformat": 4,
 "nbformat_minor": 2
}
