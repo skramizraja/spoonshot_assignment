{
 "cells": [
  {
   "cell_type": "code",
   "execution_count": null,
   "metadata": {},
   "outputs": [],
   "source": [
    "from googlebooks.models import Books\n",
    "from rest_framework import viewsets, permissions\n",
    "from .serializers import BooksSerializer\n",
    "\n",
    "# ScholarProfile Viewset\n",
    "\n",
    "class BooksViewSet(viewsets.ModelViewSet):\n",
    "\tqueryset = Books.objects.all()\n",
    "\tpermission_classes = [\n",
    "\tpermissions.AllowAny\n",
    "\t]\n",
    "\tserializer_class = BooksSerializer"
   ]
  }
 ],
 "metadata": {
  "kernelspec": {
   "display_name": "Python 3",
   "language": "python",
   "name": "python3"
  },
  "language_info": {
   "codemirror_mode": {
    "name": "ipython",
    "version": 3
   },
   "file_extension": ".py",
   "mimetype": "text/x-python",
   "name": "python",
   "nbconvert_exporter": "python",
   "pygments_lexer": "ipython3",
   "version": "3.7.3"
  }
 },
 "nbformat": 4,
 "nbformat_minor": 2
}
