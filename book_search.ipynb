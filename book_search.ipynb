{
 "cells": [
  {
   "cell_type": "code",
   "execution_count": null,
   "metadata": {},
   "outputs": [],
   "source": [
    "import os\n",
    "import requests\n",
    "import json\n",
    "from .models import Books\n",
    "\n",
    "class my_dictionary(dict): \n",
    "  \n",
    "    def __init__(self): \n",
    "        self = dict() \n",
    "\n",
    "    def add(self, key, value): \n",
    "        self[key] = value \n",
    "\n",
    "class gbooks():\n",
    "    googleapikey=\"os.ebviron.get('API_KEY')  \n",
    "    def __init__(self, book_search):\n",
    "        self.book_search= book_search\n",
    "\n",
    "    \n",
    "\n",
    "    def search(self):\n",
    "        list1=[]\n",
    "        list2=[]\n",
    "        list3=[]\n",
    "        idlist=[]\n",
    "        list4=[]\n",
    "        parms = {\"q\":self.book_search, 'key':self.googleapikey}\n",
    "        try:\n",
    "            r = requests.get(url=\"https://www.googleapis.com/books/v1/volumes\", params=parms)\n",
    "            my_json = r.json()\n",
    "            for i in my_json[\"items\"]:\n",
    "                list1.append(i['volumeInfo']['title'])\n",
    "                list2.append(i[\"volumeInfo\"][\"previewLink\"])\n",
    "                try:\n",
    "                    list3.append(i['volumeInfo'][\"imageLinks\"][\"thumbnail\"])\n",
    "                except:\n",
    "                    list3.append('#')\n",
    "                idlist.append(i[\"id\"])\n",
    "\n",
    "            for j in idlist:\n",
    "                if Books.objects.filter(ID= j):\n",
    "                    list4.append(\"available\")\n",
    "                else:\n",
    "                    list4.append(\"This item is not available in the inventory\")\n",
    "\n",
    "            data= zip(list1, list2, list3, list4)\n",
    "            return data\n",
    "        except:\n",
    "            return zip(list1, list2, list3, list4)\n",
    "\n",
    "        "
   ]
  }
 ],
 "metadata": {
  "kernelspec": {
   "display_name": "Python 3",
   "language": "python",
   "name": "python3"
  },
  "language_info": {
   "codemirror_mode": {
    "name": "ipython",
    "version": 3
   },
   "file_extension": ".py",
   "mimetype": "text/x-python",
   "name": "python",
   "nbconvert_exporter": "python",
   "pygments_lexer": "ipython3",
   "version": "3.7.3"
  }
 },
 "nbformat": 4,
 "nbformat_minor": 2
}
